{
 "cells": [
  {
   "cell_type": "markdown",
   "metadata": {},
   "source": [
    "# WeatherPy\n",
    "----\n",
    "\n",
    "#### Note\n",
    "* Instructions have been included for each segment. You do not have to follow them exactly, but they are included to help you think through the steps."
   ]
  },
  {
   "cell_type": "code",
   "execution_count": 1,
   "metadata": {
    "scrolled": true
   },
   "outputs": [],
   "source": [
    "#!pip install citipy\n",
    "import matplotlib.pyplot as plt\n",
    "import pandas as pd\n",
    "import numpy as np\n",
    "import requests\n",
    "import time\n",
    "import datetime\n",
    "from api_keys import weather_api_key\n",
    "from api_keys import g_key\n",
    "\n",
    "\n",
    "from scipy.stats import linregress\n",
    "\n",
    "# Import API key\n",
    "from api_keys import weather_api_key\n",
    "\n",
    "# Incorporated citipy to determine city based on latitude and longitude\n",
    "from citipy import citipy\n",
    "\n",
    "\n",
    "# Output File (CSV)\n",
    "output_data_file = \"output_data/cities.csv\"\n",
    "\n",
    "# Range of latitudes and longitudes\n",
    "lat_range = (-90, 90)\n",
    "lng_range = (-180, 180)"
   ]
  },
  {
   "cell_type": "markdown",
   "metadata": {},
   "source": [
    "## Generate Cities List"
   ]
  },
  {
   "cell_type": "code",
   "execution_count": 2,
   "metadata": {},
   "outputs": [
    {
     "data": {
      "text/plain": [
       "609"
      ]
     },
     "execution_count": 2,
     "metadata": {},
     "output_type": "execute_result"
    }
   ],
   "source": [
    "# List for holding lat_lngs and cities\n",
    "lat_lngs = []\n",
    "cities = []\n",
    "\n",
    "# Create a set of random lat and lng combinations\n",
    "lats = np.random.uniform(low=-90.000, high=90.000, size=1500)\n",
    "lngs = np.random.uniform(low=-180.000, high=180.000, size=1500)\n",
    "lat_lngs = zip(lats, lngs)\n",
    "\n",
    "# Identify nearest city for each lat, lng combination\n",
    "for lat_lng in lat_lngs:\n",
    "    city = citipy.nearest_city(lat_lng[0], lat_lng[1]).city_name\n",
    "    \n",
    "    # If the city is unique, then add it to a our cities list\n",
    "    if city not in cities:\n",
    "        cities.append(city)\n",
    "\n",
    "# Print the city count to confirm sufficient count\n",
    "len(cities)\n",
    "\n"
   ]
  },
  {
   "cell_type": "markdown",
   "metadata": {},
   "source": [
    "### Perform API Calls\n",
    "* Perform a weather check on each city using a series of successive API calls.\n",
    "* Include a print log of each city as it'sbeing processed (with the city number and city name).\n"
   ]
  },
  {
   "cell_type": "code",
   "execution_count": 3,
   "metadata": {},
   "outputs": [
    {
     "name": "stdout",
     "output_type": "stream",
     "text": [
      "Beginning Data Retrieval\n",
      "-------------------------------------------------\n",
      "Processing Record 0 of Set 1 | kahului\n",
      "Processing Record 1 of Set 1 | avarua\n",
      "Processing Record 2 of Set 1 | albany\n",
      "Processing Record 3 of Set 1 | cape town\n",
      "Processing Record 4 of Set 1 | busselton\n",
      "Processing Record 5 of Set 1 | yulara\n",
      "Processing Record 6 of Set 1 | chikwawa\n",
      "Processing Record 7 of Set 1 | hilo\n",
      "Processing Record 8 of Set 1 | nikolskoye\n",
      "Processing Record 9 of Set 1 | alyangula\n",
      "Processing Record 10 of Set 1 | kutum\n",
      "Processing Record 11 of Set 1 | hobyo\n",
      "Processing Record 12 of Set 1 | dingle\n",
      "Processing Record 13 of Set 1 | mataura\n",
      "Processing Record 14 of Set 1 | rikitea\n",
      "Processing Record 15 of Set 1 | fortuna\n",
      "Processing Record 16 of Set 1 | wencheng\n",
      "Processing Record 17 of Set 1 | pangnirtung\n",
      "Processing Record 18 of Set 1 | vaini\n",
      "Processing Record 19 of Set 1 | takhtamygda\n",
      "Processing Record 20 of Set 1 | tuktoyaktuk\n",
      "Processing Record 21 of Set 1 | hermanus\n",
      "Processing Record 22 of Set 1 | castro\n",
      "Processing Record 23 of Set 1 | guano\n",
      "City not found. Skipping...\n",
      "Processing Record 25 of Set 1 | manbij\n",
      "Processing Record 26 of Set 1 | kapaa\n",
      "Processing Record 27 of Set 1 | tlalmanalco\n",
      "Processing Record 28 of Set 1 | new norfolk\n",
      "Processing Record 29 of Set 1 | hobart\n",
      "Processing Record 30 of Set 1 | ponta do sol\n",
      "Processing Record 31 of Set 1 | tasiilaq\n",
      "Processing Record 32 of Set 1 | leningradskiy\n",
      "Processing Record 33 of Set 1 | grand-santi\n",
      "Processing Record 34 of Set 1 | san jose\n",
      "Processing Record 35 of Set 1 | chumikan\n",
      "Processing Record 36 of Set 1 | khatanga\n",
      "Processing Record 37 of Set 1 | northam\n",
      "Processing Record 38 of Set 1 | vila\n",
      "Processing Record 39 of Set 1 | medina del campo\n",
      "Processing Record 40 of Set 1 | salalah\n",
      "Processing Record 41 of Set 1 | naze\n",
      "Processing Record 42 of Set 1 | georgetown\n",
      "Processing Record 43 of Set 1 | bairiki\n",
      "Processing Record 44 of Set 1 | hithadhoo\n",
      "Processing Record 45 of Set 1 | bundaberg\n",
      "City not found. Skipping...\n",
      "Processing Record 47 of Set 1 | ushuaia\n",
      "City not found. Skipping...\n",
      "Processing Record 49 of Set 1 | puerto madryn\n",
      "Processing Record 50 of Set 1 | carnarvon\n",
      "Processing Record 51 of Set 1 | coahuayana\n",
      "Processing Record 52 of Set 1 | kaeo\n",
      "Processing Record 53 of Set 1 | kodiak\n",
      "Processing Record 54 of Set 1 | yar-sale\n",
      "Processing Record 55 of Set 1 | vostok\n",
      "Processing Record 56 of Set 1 | sandwick\n",
      "Processing Record 57 of Set 1 | lompoc\n",
      "Processing Record 58 of Set 1 | saint-philippe\n",
      "Processing Record 59 of Set 1 | punta arenas\n",
      "Processing Record 60 of Set 1 | mahebourg\n",
      "Processing Record 61 of Set 1 | abu zabad\n",
      "Processing Record 62 of Set 1 | hasaki\n",
      "Processing Record 63 of Set 1 | rexburg\n",
      "Processing Record 64 of Set 1 | namie\n",
      "Processing Record 65 of Set 1 | ribeira grande\n",
      "Processing Record 66 of Set 1 | clyde river\n",
      "Processing Record 67 of Set 1 | lebu\n",
      "Processing Record 68 of Set 1 | presidente medici\n",
      "Processing Record 69 of Set 1 | torbay\n",
      "City not found. Skipping...\n",
      "Processing Record 71 of Set 1 | jiayuguan\n",
      "Processing Record 72 of Set 1 | upernavik\n",
      "Processing Record 73 of Set 1 | te anau\n",
      "Processing Record 74 of Set 1 | grootfontein\n",
      "Processing Record 75 of Set 1 | plettenberg bay\n",
      "Processing Record 76 of Set 1 | tarauaca\n",
      "Processing Record 77 of Set 1 | mackay\n",
      "Processing Record 78 of Set 1 | ulladulla\n",
      "Processing Record 79 of Set 1 | saint-leu\n",
      "Processing Record 80 of Set 1 | ancud\n",
      "Processing Record 81 of Set 1 | williams lake\n",
      "Processing Record 82 of Set 1 | arraial do cabo\n",
      "Processing Record 83 of Set 1 | turbat\n",
      "Processing Record 84 of Set 1 | atherton\n",
      "Processing Record 85 of Set 1 | kyaka\n",
      "Processing Record 86 of Set 1 | lundazi\n",
      "Processing Record 87 of Set 1 | seoul\n",
      "Processing Record 88 of Set 1 | qaanaaq\n",
      "Processing Record 89 of Set 1 | fort nelson\n",
      "Processing Record 90 of Set 1 | ahuimanu\n",
      "Processing Record 91 of Set 1 | kavaratti\n",
      "Processing Record 92 of Set 1 | nardaran\n",
      "Processing Record 93 of Set 1 | piranshahr\n",
      "Processing Record 94 of Set 1 | tocopilla\n",
      "Processing Record 95 of Set 1 | puerto ayora\n",
      "Processing Record 96 of Set 1 | tuatapere\n",
      "Processing Record 97 of Set 1 | salur\n",
      "City not found. Skipping...\n",
      "City not found. Skipping...\n",
      "Processing Record 100 of Set 1 | cherskiy\n",
      "Processing Record 101 of Set 1 | mayo\n",
      "Processing Record 102 of Set 1 | zhigansk\n",
      "Processing Record 103 of Set 1 | sao simao\n",
      "Processing Record 104 of Set 1 | berasia\n",
      "Processing Record 105 of Set 1 | east london\n",
      "Processing Record 106 of Set 1 | victoria\n",
      "Processing Record 107 of Set 1 | bathsheba\n",
      "Processing Record 108 of Set 1 | iqaluit\n",
      "City not found. Skipping...\n",
      "Processing Record 110 of Set 1 | kruisfontein\n",
      "Processing Record 111 of Set 1 | leninskoye\n",
      "Processing Record 112 of Set 1 | lata\n",
      "Processing Record 113 of Set 1 | cayenne\n",
      "Processing Record 114 of Set 1 | atuona\n",
      "Processing Record 115 of Set 1 | eureka\n",
      "Processing Record 116 of Set 1 | troitsko-pechorsk\n",
      "Processing Record 117 of Set 1 | bilibino\n",
      "Processing Record 118 of Set 1 | bhawanipatna\n",
      "Processing Record 119 of Set 1 | bluff\n",
      "Processing Record 120 of Set 1 | broken hill\n",
      "Processing Record 121 of Set 1 | kitimat\n",
      "Processing Record 122 of Set 1 | saint-augustin\n",
      "Processing Record 123 of Set 1 | cidreira\n",
      "Processing Record 124 of Set 1 | gamba\n",
      "Processing Record 125 of Set 1 | nanortalik\n",
      "Processing Record 126 of Set 1 | esperance\n",
      "Processing Record 127 of Set 1 | samarai\n",
      "Processing Record 128 of Set 1 | piacabucu\n",
      "Processing Record 129 of Set 1 | camana\n",
      "Processing Record 130 of Set 1 | saskylakh\n",
      "Processing Record 131 of Set 1 | raga\n",
      "Processing Record 132 of Set 1 | petropavlovsk-kamchatskiy\n",
      "Processing Record 133 of Set 1 | leshukonskoye\n",
      "Processing Record 134 of Set 1 | forbes\n",
      "City not found. Skipping...\n",
      "Processing Record 136 of Set 1 | lavrentiya\n",
      "Processing Record 137 of Set 1 | sayat\n",
      "Processing Record 138 of Set 1 | antalaha\n",
      "Processing Record 139 of Set 1 | moindou\n",
      "Processing Record 140 of Set 1 | svetlaya\n",
      "Processing Record 141 of Set 1 | aksarka\n",
      "Processing Record 142 of Set 1 | qui nhon\n",
      "Processing Record 143 of Set 1 | alofi\n",
      "Processing Record 144 of Set 1 | kamaishi\n",
      "Processing Record 145 of Set 1 | nalut\n",
      "City not found. Skipping...\n",
      "Processing Record 147 of Set 1 | jamestown\n",
      "Processing Record 148 of Set 1 | sioux lookout\n",
      "Processing Record 149 of Set 1 | council bluffs\n",
      "Processing Record 150 of Set 1 | khao yoi\n",
      "Processing Record 151 of Set 1 | san carlos de bariloche\n",
      "Processing Record 152 of Set 1 | pingyin\n",
      "Processing Record 153 of Set 1 | butaritari\n",
      "Processing Record 154 of Set 1 | rio gallegos\n",
      "City not found. Skipping...\n",
      "Processing Record 156 of Set 1 | bonavista\n",
      "Processing Record 157 of Set 1 | hamilton\n",
      "Processing Record 158 of Set 1 | shenzhen\n",
      "Processing Record 159 of Set 1 | port alfred\n",
      "Processing Record 160 of Set 1 | biscarrosse\n",
      "Processing Record 161 of Set 1 | bambous virieux\n",
      "City not found. Skipping...\n",
      "Processing Record 163 of Set 1 | waingapu\n",
      "Processing Record 164 of Set 1 | pundaguitan\n",
      "Processing Record 165 of Set 1 | kismayo\n",
      "Processing Record 166 of Set 1 | ayan\n",
      "Processing Record 167 of Set 1 | pishin\n",
      "Processing Record 168 of Set 1 | mar del plata\n",
      "Processing Record 169 of Set 1 | yellowknife\n",
      "Processing Record 170 of Set 1 | talnakh\n",
      "City not found. Skipping...\n",
      "Processing Record 172 of Set 1 | wisconsin rapids\n",
      "City not found. Skipping...\n",
      "Processing Record 174 of Set 1 | mehamn\n",
      "Processing Record 175 of Set 1 | ukiah\n",
      "Processing Record 176 of Set 1 | chokurdakh\n",
      "Processing Record 177 of Set 1 | novikovo\n",
      "Processing Record 178 of Set 1 | barrow\n",
      "Processing Record 179 of Set 1 | ilulissat\n",
      "Processing Record 180 of Set 1 | esil\n",
      "Processing Record 181 of Set 1 | vardo\n",
      "Processing Record 182 of Set 1 | zapadnaya dvina\n",
      "Processing Record 183 of Set 1 | ola\n",
      "Processing Record 184 of Set 1 | san policarpo\n",
      "Processing Record 185 of Set 1 | porto san giorgio\n",
      "Processing Record 186 of Set 1 | greenville\n",
      "Processing Record 187 of Set 1 | huarmey\n",
      "City not found. Skipping...\n",
      "Processing Record 189 of Set 1 | bredasdorp\n",
      "Processing Record 190 of Set 1 | auburn\n",
      "Processing Record 191 of Set 1 | ozark\n",
      "Processing Record 192 of Set 1 | homer\n",
      "Processing Record 193 of Set 1 | husavik\n",
      "Processing Record 194 of Set 1 | berdigestyakh\n",
      "Processing Record 195 of Set 1 | camacha\n",
      "Processing Record 196 of Set 1 | zionsville\n",
      "Processing Record 197 of Set 1 | arequipa\n"
     ]
    },
    {
     "name": "stdout",
     "output_type": "stream",
     "text": [
      "Processing Record 198 of Set 1 | hvolsvollur\n",
      "Processing Record 199 of Set 1 | nabire\n",
      "Processing Record 200 of Set 1 | waipawa\n",
      "Processing Record 201 of Set 1 | takoradi\n",
      "Processing Record 202 of Set 1 | karratha\n",
      "Processing Record 203 of Set 1 | tateyama\n",
      "Processing Record 204 of Set 1 | agropoli\n",
      "Processing Record 205 of Set 1 | hambantota\n",
      "Processing Record 206 of Set 1 | komsomolets\n",
      "Processing Record 207 of Set 1 | yerofey pavlovich\n",
      "City not found. Skipping...\n",
      "Processing Record 209 of Set 1 | maragogi\n",
      "Processing Record 210 of Set 1 | sao felix do xingu\n",
      "Processing Record 211 of Set 1 | severo-kurilsk\n",
      "Processing Record 212 of Set 1 | ambilobe\n",
      "Processing Record 213 of Set 1 | vigia del fuerte\n",
      "Processing Record 214 of Set 1 | mackenzie\n",
      "Processing Record 215 of Set 1 | shenjiamen\n",
      "Processing Record 216 of Set 1 | namatanai\n",
      "Processing Record 217 of Set 1 | isangel\n",
      "City not found. Skipping...\n",
      "Processing Record 219 of Set 1 | antoing\n",
      "City not found. Skipping...\n",
      "Processing Record 221 of Set 1 | narsaq\n",
      "Processing Record 222 of Set 1 | praya\n",
      "Processing Record 223 of Set 1 | half moon bay\n",
      "Processing Record 224 of Set 1 | geraldton\n",
      "City not found. Skipping...\n",
      "Processing Record 226 of Set 1 | zima\n",
      "Processing Record 227 of Set 1 | wanning\n",
      "Processing Record 228 of Set 1 | zavyalovo\n",
      "Processing Record 229 of Set 1 | imbituba\n",
      "Processing Record 230 of Set 1 | san cristobal\n",
      "Processing Record 231 of Set 1 | araouane\n",
      "Processing Record 232 of Set 1 | guerrero negro\n",
      "Processing Record 233 of Set 1 | port elizabeth\n",
      "Processing Record 234 of Set 1 | madimba\n",
      "Processing Record 235 of Set 1 | manicore\n",
      "Processing Record 236 of Set 1 | kangavar\n",
      "Processing Record 237 of Set 1 | cabo san lucas\n",
      "Processing Record 238 of Set 1 | peristera\n",
      "Processing Record 239 of Set 1 | carballo\n",
      "Processing Record 240 of Set 1 | kaitangata\n",
      "Processing Record 241 of Set 1 | zemio\n",
      "Processing Record 242 of Set 1 | zyryanka\n",
      "Processing Record 243 of Set 1 | sitka\n",
      "Processing Record 244 of Set 1 | fort collins\n",
      "Processing Record 245 of Set 1 | bac lieu\n",
      "Processing Record 246 of Set 1 | datong\n",
      "Processing Record 247 of Set 1 | buraydah\n",
      "Processing Record 248 of Set 1 | bethel\n",
      "Processing Record 249 of Set 1 | prince albert\n",
      "Processing Record 250 of Set 1 | thinadhoo\n",
      "Processing Record 251 of Set 1 | constitucion\n",
      "Processing Record 252 of Set 1 | copiapo\n",
      "City not found. Skipping...\n",
      "Processing Record 254 of Set 1 | luderitz\n",
      "Processing Record 255 of Set 1 | kushalnagar\n",
      "Processing Record 256 of Set 1 | ilesha\n",
      "Processing Record 257 of Set 1 | gold coast\n",
      "Processing Record 258 of Set 1 | dongsheng\n",
      "Processing Record 259 of Set 1 | yanam\n",
      "Processing Record 260 of Set 1 | yenagoa\n",
      "Processing Record 261 of Set 1 | kotturu\n",
      "Processing Record 262 of Set 1 | sao filipe\n",
      "Processing Record 263 of Set 1 | jalu\n",
      "Processing Record 264 of Set 1 | macduff\n",
      "Processing Record 265 of Set 1 | viljoenskroon\n",
      "Processing Record 266 of Set 1 | svetlogorsk\n",
      "Processing Record 267 of Set 1 | wanxian\n",
      "Processing Record 268 of Set 1 | coruripe\n",
      "Processing Record 269 of Set 1 | lazaro cardenas\n",
      "Processing Record 270 of Set 1 | krasnovishersk\n",
      "Processing Record 271 of Set 1 | taoudenni\n",
      "Processing Record 272 of Set 1 | pevek\n",
      "Processing Record 273 of Set 1 | bengkulu\n",
      "Processing Record 274 of Set 1 | saint george\n",
      "Processing Record 275 of Set 1 | xining\n",
      "Processing Record 276 of Set 1 | sampit\n",
      "Processing Record 277 of Set 1 | hastings\n",
      "Processing Record 278 of Set 1 | boca do acre\n",
      "Processing Record 279 of Set 1 | tabou\n",
      "Processing Record 280 of Set 1 | kavieng\n",
      "Processing Record 281 of Set 1 | aguililla\n",
      "Processing Record 282 of Set 1 | pangai\n",
      "Processing Record 283 of Set 1 | katsuura\n",
      "Processing Record 284 of Set 1 | mozarlandia\n",
      "Processing Record 285 of Set 1 | mount gambier\n",
      "Processing Record 286 of Set 1 | orange\n",
      "Processing Record 287 of Set 1 | klaksvik\n",
      "Processing Record 288 of Set 1 | poum\n",
      "Processing Record 289 of Set 1 | westport\n",
      "Processing Record 290 of Set 1 | ostrovnoy\n",
      "Processing Record 291 of Set 1 | bacolod\n",
      "Processing Record 292 of Set 1 | saint-pierre\n",
      "Processing Record 293 of Set 1 | itapirapua\n",
      "Processing Record 294 of Set 1 | yuncheng\n",
      "Processing Record 295 of Set 1 | luoyang\n",
      "Processing Record 296 of Set 1 | touros\n",
      "Processing Record 297 of Set 1 | pacific grove\n",
      "Processing Record 298 of Set 1 | port lincoln\n",
      "Processing Record 299 of Set 1 | tual\n",
      "Processing Record 300 of Set 1 | kyren\n",
      "City not found. Skipping...\n",
      "Processing Record 302 of Set 1 | port hardy\n",
      "Processing Record 303 of Set 1 | mitchell\n",
      "Processing Record 304 of Set 1 | tenenkou\n",
      "Processing Record 305 of Set 1 | tandil\n",
      "Processing Record 306 of Set 1 | svetlyy\n",
      "Processing Record 307 of Set 1 | pisco\n",
      "Processing Record 308 of Set 1 | norman wells\n",
      "Processing Record 309 of Set 1 | barcelos\n",
      "Processing Record 310 of Set 1 | agnibilekrou\n",
      "Processing Record 311 of Set 1 | alipur chatha\n",
      "Processing Record 312 of Set 1 | lima\n",
      "Processing Record 313 of Set 1 | ati\n",
      "Processing Record 314 of Set 1 | parabel\n",
      "Processing Record 315 of Set 1 | nadym\n",
      "City not found. Skipping...\n",
      "Processing Record 317 of Set 1 | verkhnyaya inta\n",
      "Processing Record 318 of Set 1 | chuy\n",
      "Processing Record 319 of Set 1 | ust-kut\n",
      "Processing Record 320 of Set 1 | puerto madero\n",
      "Processing Record 321 of Set 1 | vila franca do campo\n",
      "Processing Record 322 of Set 1 | kenitra\n",
      "Processing Record 323 of Set 1 | la ronge\n",
      "Processing Record 324 of Set 1 | krasnyy chikoy\n",
      "Processing Record 325 of Set 1 | eydhafushi\n",
      "Processing Record 326 of Set 1 | volkhov\n",
      "Processing Record 327 of Set 1 | north platte\n",
      "Processing Record 328 of Set 1 | luanda\n",
      "Processing Record 329 of Set 1 | flinders\n",
      "Processing Record 330 of Set 1 | saint anthony\n",
      "Processing Record 331 of Set 1 | lac du bonnet\n",
      "Processing Record 332 of Set 1 | cockburn town\n",
      "Processing Record 333 of Set 1 | grand gaube\n",
      "Processing Record 334 of Set 1 | anadyr\n",
      "Processing Record 335 of Set 1 | poso\n",
      "Processing Record 336 of Set 1 | sabang\n",
      "Processing Record 337 of Set 1 | san patricio\n",
      "Processing Record 338 of Set 1 | faanui\n",
      "Processing Record 339 of Set 1 | pemangkat\n",
      "Processing Record 340 of Set 1 | khasan\n",
      "Processing Record 341 of Set 1 | gornopravdinsk\n",
      "Processing Record 342 of Set 1 | kirkuk\n",
      "City not found. Skipping...\n",
      "Processing Record 344 of Set 1 | pauini\n",
      "Processing Record 345 of Set 1 | algiers\n",
      "Processing Record 346 of Set 1 | mocuba\n",
      "Processing Record 347 of Set 1 | evinayong\n",
      "Processing Record 348 of Set 1 | machiques\n",
      "Processing Record 349 of Set 1 | mlowo\n",
      "Processing Record 350 of Set 1 | baykit\n",
      "Processing Record 351 of Set 1 | mount pleasant\n",
      "Processing Record 352 of Set 1 | litovko\n",
      "Processing Record 353 of Set 1 | picota\n",
      "City not found. Skipping...\n",
      "Processing Record 355 of Set 1 | padang\n",
      "Processing Record 356 of Set 1 | oktyabrskiy\n",
      "Processing Record 357 of Set 1 | lorengau\n",
      "Processing Record 358 of Set 1 | ravar\n",
      "Processing Record 359 of Set 1 | peddapalli\n",
      "Processing Record 360 of Set 1 | sault sainte marie\n",
      "Processing Record 361 of Set 1 | provideniya\n",
      "Processing Record 362 of Set 1 | hami\n",
      "Processing Record 363 of Set 1 | olafsvik\n",
      "Processing Record 364 of Set 1 | saint-georges\n",
      "Processing Record 365 of Set 1 | tibacuy\n",
      "Processing Record 366 of Set 1 | druzhba\n",
      "Processing Record 367 of Set 1 | gao\n",
      "Processing Record 368 of Set 1 | malampaka\n",
      "Processing Record 369 of Set 1 | goedereede\n",
      "Processing Record 370 of Set 1 | tiksi\n",
      "Processing Record 371 of Set 1 | yongan\n",
      "Processing Record 372 of Set 1 | shache\n",
      "City not found. Skipping...\n",
      "Processing Record 374 of Set 1 | beisfjord\n",
      "Processing Record 375 of Set 1 | boende\n",
      "Processing Record 376 of Set 1 | karatau\n",
      "Processing Record 377 of Set 1 | cap malheureux\n",
      "Processing Record 378 of Set 1 | dom pedrito\n",
      "Processing Record 379 of Set 1 | falam\n",
      "Processing Record 380 of Set 1 | ixtapa\n",
      "Processing Record 381 of Set 1 | harper\n",
      "Processing Record 382 of Set 1 | bridlington\n",
      "Processing Record 383 of Set 1 | namibe\n",
      "Processing Record 384 of Set 1 | hay river\n",
      "Processing Record 385 of Set 1 | paamiut\n",
      "Processing Record 386 of Set 1 | slochteren\n",
      "Processing Record 387 of Set 1 | ouadda\n",
      "Processing Record 388 of Set 1 | derzhavinsk\n",
      "Processing Record 389 of Set 1 | la orilla\n",
      "Processing Record 390 of Set 1 | halifax\n",
      "Processing Record 391 of Set 1 | dakar\n",
      "Processing Record 392 of Set 1 | akyab\n",
      "Processing Record 393 of Set 1 | ketchikan\n",
      "Processing Record 394 of Set 1 | wageningen\n"
     ]
    },
    {
     "name": "stdout",
     "output_type": "stream",
     "text": [
      "Processing Record 395 of Set 1 | quatre cocos\n",
      "City not found. Skipping...\n",
      "Processing Record 397 of Set 1 | tucupita\n",
      "Processing Record 398 of Set 1 | mecca\n",
      "Processing Record 399 of Set 1 | makakilo city\n",
      "Processing Record 400 of Set 1 | eyl\n",
      "Processing Record 401 of Set 1 | henties bay\n",
      "Processing Record 402 of Set 1 | kambove\n",
      "Processing Record 403 of Set 1 | kangaatsiaq\n",
      "Processing Record 404 of Set 1 | bay roberts\n",
      "Processing Record 405 of Set 1 | airai\n",
      "Processing Record 406 of Set 1 | vao\n",
      "City not found. Skipping...\n",
      "Processing Record 408 of Set 1 | along\n",
      "Processing Record 409 of Set 1 | kamenka\n",
      "Processing Record 410 of Set 1 | buchanan\n",
      "Processing Record 411 of Set 1 | mayya\n",
      "Processing Record 412 of Set 1 | dudinka\n",
      "Processing Record 413 of Set 1 | hot springs\n",
      "City not found. Skipping...\n",
      "Processing Record 415 of Set 1 | thompson\n",
      "Processing Record 416 of Set 1 | rolla\n",
      "Processing Record 417 of Set 1 | teya\n",
      "Processing Record 418 of Set 1 | marawi\n",
      "City not found. Skipping...\n",
      "Processing Record 420 of Set 1 | la romana\n",
      "Processing Record 421 of Set 1 | byron bay\n",
      "Processing Record 422 of Set 1 | marsh harbour\n",
      "Processing Record 423 of Set 1 | bereda\n",
      "Processing Record 424 of Set 1 | itarema\n",
      "Processing Record 425 of Set 1 | dikson\n",
      "Processing Record 426 of Set 1 | banda aceh\n",
      "Processing Record 427 of Set 1 | gazojak\n",
      "Processing Record 428 of Set 1 | santa rosalia\n",
      "Processing Record 429 of Set 1 | oskemen\n",
      "Processing Record 430 of Set 1 | vallenar\n",
      "City not found. Skipping...\n",
      "Processing Record 432 of Set 1 | rocha\n",
      "Processing Record 433 of Set 1 | barra\n",
      "Processing Record 434 of Set 1 | sekoma\n",
      "Processing Record 435 of Set 1 | ahipara\n",
      "Processing Record 436 of Set 1 | boffa\n",
      "Processing Record 437 of Set 1 | avera\n",
      "Processing Record 438 of Set 1 | aklavik\n",
      "Processing Record 439 of Set 1 | dalvik\n",
      "Processing Record 440 of Set 1 | sasykoli\n",
      "Processing Record 441 of Set 1 | codrington\n",
      "Processing Record 442 of Set 1 | enid\n",
      "Processing Record 443 of Set 1 | pankovka\n",
      "Processing Record 444 of Set 1 | bangsund\n",
      "Processing Record 445 of Set 1 | dwarka\n",
      "Processing Record 446 of Set 1 | anori\n",
      "Processing Record 447 of Set 1 | waddan\n",
      "Processing Record 448 of Set 1 | prata\n",
      "Processing Record 449 of Set 1 | fevik\n",
      "City not found. Skipping...\n",
      "Processing Record 451 of Set 1 | lala\n",
      "Processing Record 452 of Set 1 | roald\n",
      "Processing Record 453 of Set 1 | nantucket\n",
      "Processing Record 454 of Set 1 | tura\n",
      "Processing Record 455 of Set 1 | la asuncion\n",
      "Processing Record 456 of Set 1 | laguna\n",
      "Processing Record 457 of Set 1 | auki\n",
      "Processing Record 458 of Set 1 | sivas\n",
      "Processing Record 459 of Set 1 | longyearbyen\n",
      "Processing Record 460 of Set 1 | jablah\n",
      "Processing Record 461 of Set 1 | fairbanks\n",
      "Processing Record 462 of Set 1 | mabaruma\n",
      "Processing Record 463 of Set 1 | linqiong\n",
      "Processing Record 464 of Set 1 | sunrise manor\n",
      "Processing Record 465 of Set 1 | strezhevoy\n",
      "Processing Record 466 of Set 1 | malindi\n",
      "Processing Record 467 of Set 1 | san felipe\n",
      "Processing Record 468 of Set 1 | bayir\n",
      "Processing Record 469 of Set 1 | chulman\n",
      "Processing Record 470 of Set 1 | harlingen\n",
      "Processing Record 471 of Set 1 | dicabisagan\n",
      "Processing Record 472 of Set 1 | krivosheino\n",
      "City not found. Skipping...\n",
      "Processing Record 474 of Set 1 | banjar\n",
      "Processing Record 475 of Set 1 | sao joao da barra\n",
      "Processing Record 476 of Set 1 | vysokogornyy\n",
      "Processing Record 477 of Set 1 | odesskoye\n",
      "Processing Record 478 of Set 1 | meulaboh\n",
      "Processing Record 479 of Set 1 | beyneu\n",
      "Processing Record 480 of Set 1 | russkiy aktash\n",
      "Processing Record 481 of Set 1 | jaguey grande\n",
      "Processing Record 482 of Set 1 | ossora\n",
      "Processing Record 483 of Set 1 | nome\n",
      "Processing Record 484 of Set 1 | najran\n",
      "Processing Record 485 of Set 1 | panguna\n",
      "Processing Record 486 of Set 1 | hofn\n",
      "Processing Record 487 of Set 1 | rio grande\n",
      "Processing Record 488 of Set 1 | qaqortoq\n",
      "Processing Record 489 of Set 1 | rawson\n",
      "Processing Record 490 of Set 1 | villazon\n",
      "Processing Record 491 of Set 1 | berlevag\n",
      "Processing Record 492 of Set 1 | cabedelo\n",
      "Processing Record 493 of Set 1 | panama city\n",
      "Processing Record 494 of Set 1 | lafiagi\n",
      "Processing Record 495 of Set 1 | mingaora\n",
      "Processing Record 496 of Set 1 | honningsvag\n",
      "Processing Record 497 of Set 1 | kidal\n",
      "Processing Record 498 of Set 1 | oranjemund\n",
      "Processing Record 499 of Set 1 | sechura\n",
      "Processing Record 500 of Set 1 | matamoros\n",
      "Processing Record 501 of Set 1 | bansang\n",
      "Processing Record 502 of Set 1 | smulti\n",
      "Processing Record 503 of Set 1 | jardim\n",
      "Processing Record 504 of Set 1 | kannangad\n",
      "Processing Record 505 of Set 1 | khandyga\n",
      "Processing Record 506 of Set 1 | carinhanha\n",
      "Processing Record 507 of Set 1 | yakeshi\n",
      "Processing Record 508 of Set 1 | hoquiam\n",
      "Processing Record 509 of Set 1 | comodoro rivadavia\n",
      "Processing Record 510 of Set 1 | limoges\n",
      "Processing Record 511 of Set 1 | kazachinskoye\n",
      "City not found. Skipping...\n",
      "Processing Record 513 of Set 1 | jumla\n",
      "Processing Record 514 of Set 1 | portland\n",
      "Processing Record 515 of Set 1 | great bend\n",
      "Processing Record 516 of Set 1 | saint-francois\n",
      "Processing Record 517 of Set 1 | popondetta\n",
      "Processing Record 518 of Set 1 | beira\n",
      "Processing Record 519 of Set 1 | nhulunbuy\n",
      "Processing Record 520 of Set 1 | evensk\n",
      "Processing Record 521 of Set 1 | terrace\n",
      "Processing Record 522 of Set 1 | angoche\n",
      "Processing Record 523 of Set 1 | ulaangom\n",
      "Processing Record 524 of Set 1 | kilindoni\n",
      "Processing Record 525 of Set 1 | kieta\n",
      "City not found. Skipping...\n",
      "Processing Record 527 of Set 1 | balabac\n",
      "Processing Record 528 of Set 1 | wagar\n",
      "Processing Record 529 of Set 1 | matagami\n",
      "City not found. Skipping...\n",
      "City not found. Skipping...\n",
      "Processing Record 532 of Set 1 | marrakesh\n",
      "Processing Record 533 of Set 1 | tartus\n",
      "Processing Record 534 of Set 1 | tilichiki\n",
      "City not found. Skipping...\n",
      "Processing Record 536 of Set 1 | turayf\n",
      "Processing Record 537 of Set 1 | verkh-usugli\n",
      "Processing Record 538 of Set 1 | magugu\n",
      "Processing Record 539 of Set 1 | abha\n",
      "Processing Record 540 of Set 1 | muros\n",
      "Processing Record 541 of Set 1 | praia\n",
      "Processing Record 542 of Set 1 | pangody\n",
      "Processing Record 543 of Set 1 | heinola\n",
      "Processing Record 544 of Set 1 | kayes\n",
      "Processing Record 545 of Set 1 | trairi\n",
      "City not found. Skipping...\n",
      "Processing Record 547 of Set 1 | arenal\n",
      "Processing Record 548 of Set 1 | ucluelet\n",
      "Processing Record 549 of Set 1 | batagay-alyta\n",
      "Processing Record 550 of Set 1 | chaihe\n",
      "Processing Record 551 of Set 1 | trincomalee\n",
      "Processing Record 552 of Set 1 | iralaya\n",
      "Processing Record 553 of Set 1 | dasoguz\n",
      "Processing Record 554 of Set 1 | aktash\n",
      "Processing Record 555 of Set 1 | sokolo\n",
      "Processing Record 556 of Set 1 | makurdi\n",
      "Processing Record 557 of Set 1 | sparbu\n",
      "Processing Record 558 of Set 1 | coquimbo\n",
      "Processing Record 559 of Set 1 | ushtobe\n",
      "Processing Record 560 of Set 1 | bambanglipuro\n",
      "Processing Record 561 of Set 1 | campina verde\n",
      "Processing Record 562 of Set 1 | mahajanga\n",
      "Processing Record 563 of Set 1 | srivardhan\n",
      "Processing Record 564 of Set 1 | yerbogachen\n",
      "Processing Record 565 of Set 1 | brufut\n",
      "Processing Record 566 of Set 1 | cajati\n",
      "Processing Record 567 of Set 1 | nelson bay\n",
      "Processing Record 568 of Set 1 | bubaque\n",
      "Processing Record 569 of Set 1 | guilin\n",
      "Processing Record 570 of Set 1 | puerto penasco\n",
      "Processing Record 571 of Set 1 | tiznit\n",
      "Processing Record 572 of Set 1 | mayumba\n",
      "Processing Record 573 of Set 1 | trollhattan\n",
      "Processing Record 574 of Set 1 | watertown\n",
      "Processing Record 575 of Set 1 | marsa matruh\n",
      "Processing Record 576 of Set 1 | bako\n",
      "Processing Record 577 of Set 1 | mandalgovi\n",
      "Processing Record 578 of Set 1 | dandong\n",
      "Processing Record 579 of Set 1 | mingshui\n",
      "Processing Record 580 of Set 1 | moengo\n",
      "Processing Record 581 of Set 1 | syava\n",
      "Processing Record 582 of Set 1 | samana\n",
      "Processing Record 583 of Set 1 | jalna\n",
      "Processing Record 584 of Set 1 | sundsvall\n",
      "Processing Record 585 of Set 1 | ostercappeln\n",
      "Processing Record 586 of Set 1 | selam\n",
      "Processing Record 587 of Set 1 | saint-joseph\n",
      "Processing Record 588 of Set 1 | kamina\n",
      "Processing Record 589 of Set 1 | sardinata\n",
      "Processing Record 590 of Set 1 | hangu\n",
      "Processing Record 591 of Set 1 | kjollefjord\n",
      "Processing Record 592 of Set 1 | uberlandia\n",
      "Processing Record 593 of Set 1 | tromso\n",
      "Processing Record 594 of Set 1 | atambua\n",
      "Processing Record 595 of Set 1 | terra santa\n"
     ]
    },
    {
     "name": "stdout",
     "output_type": "stream",
     "text": [
      "Processing Record 596 of Set 1 | saldanha\n",
      "Processing Record 597 of Set 1 | ghanzi\n",
      "City not found. Skipping...\n",
      "Processing Record 599 of Set 1 | awjilah\n",
      "Processing Record 600 of Set 1 | olinda\n",
      "Processing Record 601 of Set 1 | san quintin\n",
      "City not found. Skipping...\n",
      "Processing Record 603 of Set 1 | abonnema\n",
      "Processing Record 604 of Set 1 | yamada\n",
      "Processing Record 605 of Set 1 | larap\n",
      "Processing Record 606 of Set 1 | aykhal\n",
      "Processing Record 607 of Set 1 | monrovia\n",
      "Processing Record 608 of Set 1 | shieli\n",
      "------------------------------\n",
      "Data Retrieval Complete\n",
      "------------------------------\n"
     ]
    }
   ],
   "source": [
    "# Save config information.\n",
    "\n",
    "base_url = \"http://api.openweathermap.org/data/2.5/weather?\"\n",
    "units = \"imperial\"  # \"imperial\" for Farenheit; \"metric\" for Celsius\n",
    "\n",
    "\n",
    "\n",
    "# Build partial query URL\n",
    "#query_url = base_url + \"appid=\" + weather_api_key + \"&q=\" + cityx\n",
    "query_url = f\"{base_url}appid={weather_api_key}&units={units}&q=\"\n",
    "\n",
    "#create lists\n",
    "x_city=[]\n",
    "x_cloudiness=[]\n",
    "x_country=[]\n",
    "x_date=[]\n",
    "x_humidity=[]\n",
    "x_latitude=[]\n",
    "x_longitude=[]\n",
    "x_max_temp=[]\n",
    "x_wind_speed=[]\n",
    "record = 0\n",
    "set = 1\n",
    "\n",
    "print(f\"Beginning Data Retrieval\")\n",
    "print(f\"-------------------------------------------------\")\n",
    "for index in cities: #[0:50]:   #https://samples.openweathermap.org/data/2.5/find?q=London&units=metric&appid=439d4b804bc8187953eb36d2a8c26a02\n",
    "    \n",
    "    response = requests.get(query_url + index).json() #index is city name, passing to url\n",
    "    \n",
    "    try:\n",
    "        x_city.append(index)\n",
    "        x_cloudiness.append(response['clouds']['all'])\n",
    "        x_country.append(response['sys']['country'])\n",
    "        x_date.append(response['dt'])\n",
    "        x_humidity.append(response['main']['humidity'])\n",
    "        x_latitude.append(response['coord']['lat'])\n",
    "        x_longitude.append(response['coord']['lon'])\n",
    "        x_max_temp.append(response['main']['temp_max'])\n",
    "        x_wind_speed.append(response['wind']['speed'])\n",
    "        print(f\"Processing Record {record} of Set {set} | {index}\") #*************Count Set********************\n",
    "        \n",
    "    except (KeyError, IndexError):\n",
    "        print(\"City not found. Skipping...\")\n",
    "    record += 1\n",
    "set += 1\n",
    "print(f\"------------------------------\")\n",
    "print(f\"Data Retrieval Complete\")\n",
    "print(f\"------------------------------\")\n",
    "\n",
    "\n",
    "\n",
    "# for p in x_city:\n",
    "#      print(p)\n",
    "    \n",
    "    \n",
    "    "
   ]
  },
  {
   "cell_type": "markdown",
   "metadata": {},
   "source": [
    "### Convert Raw Data to DataFrame\n",
    "* Export the city data into a .csv.\n",
    "* Display the DataFrame"
   ]
  },
  {
   "cell_type": "code",
   "execution_count": 20,
   "metadata": {},
   "outputs": [
    {
     "data": {
      "text/plain": [
       "Cloudiness    570\n",
       "Country       570\n",
       "Date          570\n",
       "Humidity      570\n",
       "Lat           570\n",
       "Lng           570\n",
       "Max Temp      570\n",
       "Wind Speed    570\n",
       "dtype: int64"
      ]
     },
     "execution_count": 20,
     "metadata": {},
     "output_type": "execute_result"
    }
   ],
   "source": [
    "weather_df = {\n",
    "#  \"City\": x_city,         #   *************Error on x_city************                  \n",
    "    \"Cloudiness\": x_cloudiness,\n",
    "    \"Country\": x_country,\n",
    "    \"Date\": x_date,\n",
    "    \"Humidity\": x_humidity,\n",
    "    \"Lat\": x_latitude,\n",
    "    \"Lng\": x_longitude,\n",
    "    \"Max Temp\": x_max_temp,\n",
    "    \"Wind Speed\": x_wind_speed\n",
    "}\n",
    "weather_data = pd.DataFrame(weather_df)\n",
    "weather_data.count()\n",
    "\n"
   ]
  },
  {
   "cell_type": "code",
   "execution_count": 21,
   "metadata": {},
   "outputs": [
    {
     "data": {
      "text/html": [
       "<div>\n",
       "<style scoped>\n",
       "    .dataframe tbody tr th:only-of-type {\n",
       "        vertical-align: middle;\n",
       "    }\n",
       "\n",
       "    .dataframe tbody tr th {\n",
       "        vertical-align: top;\n",
       "    }\n",
       "\n",
       "    .dataframe thead th {\n",
       "        text-align: right;\n",
       "    }\n",
       "</style>\n",
       "<table border=\"1\" class=\"dataframe\">\n",
       "  <thead>\n",
       "    <tr style=\"text-align: right;\">\n",
       "      <th></th>\n",
       "      <th>Cloudiness</th>\n",
       "      <th>Country</th>\n",
       "      <th>Date</th>\n",
       "      <th>Humidity</th>\n",
       "      <th>Lat</th>\n",
       "      <th>Lng</th>\n",
       "      <th>Max Temp</th>\n",
       "      <th>Wind Speed</th>\n",
       "    </tr>\n",
       "  </thead>\n",
       "  <tbody>\n",
       "    <tr>\n",
       "      <td>0</td>\n",
       "      <td>40</td>\n",
       "      <td>US</td>\n",
       "      <td>1586833936</td>\n",
       "      <td>58</td>\n",
       "      <td>20.89</td>\n",
       "      <td>-156.47</td>\n",
       "      <td>84.20</td>\n",
       "      <td>6.93</td>\n",
       "    </tr>\n",
       "    <tr>\n",
       "      <td>1</td>\n",
       "      <td>69</td>\n",
       "      <td>CK</td>\n",
       "      <td>1586833881</td>\n",
       "      <td>74</td>\n",
       "      <td>-21.21</td>\n",
       "      <td>-159.78</td>\n",
       "      <td>78.80</td>\n",
       "      <td>5.82</td>\n",
       "    </tr>\n",
       "    <tr>\n",
       "      <td>2</td>\n",
       "      <td>90</td>\n",
       "      <td>US</td>\n",
       "      <td>1586833886</td>\n",
       "      <td>53</td>\n",
       "      <td>42.60</td>\n",
       "      <td>-73.97</td>\n",
       "      <td>53.01</td>\n",
       "      <td>8.05</td>\n",
       "    </tr>\n",
       "    <tr>\n",
       "      <td>3</td>\n",
       "      <td>20</td>\n",
       "      <td>ZA</td>\n",
       "      <td>1586833583</td>\n",
       "      <td>87</td>\n",
       "      <td>-33.93</td>\n",
       "      <td>18.42</td>\n",
       "      <td>55.99</td>\n",
       "      <td>5.82</td>\n",
       "    </tr>\n",
       "    <tr>\n",
       "      <td>4</td>\n",
       "      <td>31</td>\n",
       "      <td>AU</td>\n",
       "      <td>1586833645</td>\n",
       "      <td>34</td>\n",
       "      <td>-33.65</td>\n",
       "      <td>115.33</td>\n",
       "      <td>73.99</td>\n",
       "      <td>3.60</td>\n",
       "    </tr>\n",
       "    <tr>\n",
       "      <td>...</td>\n",
       "      <td>...</td>\n",
       "      <td>...</td>\n",
       "      <td>...</td>\n",
       "      <td>...</td>\n",
       "      <td>...</td>\n",
       "      <td>...</td>\n",
       "      <td>...</td>\n",
       "      <td>...</td>\n",
       "    </tr>\n",
       "    <tr>\n",
       "      <td>565</td>\n",
       "      <td>45</td>\n",
       "      <td>JP</td>\n",
       "      <td>1586834299</td>\n",
       "      <td>53</td>\n",
       "      <td>39.47</td>\n",
       "      <td>141.95</td>\n",
       "      <td>48.69</td>\n",
       "      <td>14.65</td>\n",
       "    </tr>\n",
       "    <tr>\n",
       "      <td>566</td>\n",
       "      <td>97</td>\n",
       "      <td>PH</td>\n",
       "      <td>1586834299</td>\n",
       "      <td>81</td>\n",
       "      <td>14.30</td>\n",
       "      <td>122.65</td>\n",
       "      <td>79.81</td>\n",
       "      <td>19.22</td>\n",
       "    </tr>\n",
       "    <tr>\n",
       "      <td>567</td>\n",
       "      <td>91</td>\n",
       "      <td>RU</td>\n",
       "      <td>1586833959</td>\n",
       "      <td>45</td>\n",
       "      <td>66.00</td>\n",
       "      <td>111.50</td>\n",
       "      <td>42.80</td>\n",
       "      <td>8.95</td>\n",
       "    </tr>\n",
       "    <tr>\n",
       "      <td>568</td>\n",
       "      <td>54</td>\n",
       "      <td>LR</td>\n",
       "      <td>1586834299</td>\n",
       "      <td>85</td>\n",
       "      <td>6.30</td>\n",
       "      <td>-10.80</td>\n",
       "      <td>80.20</td>\n",
       "      <td>4.72</td>\n",
       "    </tr>\n",
       "    <tr>\n",
       "      <td>569</td>\n",
       "      <td>100</td>\n",
       "      <td>KZ</td>\n",
       "      <td>1586834299</td>\n",
       "      <td>53</td>\n",
       "      <td>44.17</td>\n",
       "      <td>66.75</td>\n",
       "      <td>46.35</td>\n",
       "      <td>10.00</td>\n",
       "    </tr>\n",
       "  </tbody>\n",
       "</table>\n",
       "<p>570 rows × 8 columns</p>\n",
       "</div>"
      ],
      "text/plain": [
       "     Cloudiness Country        Date  Humidity    Lat     Lng  Max Temp  \\\n",
       "0            40      US  1586833936        58  20.89 -156.47     84.20   \n",
       "1            69      CK  1586833881        74 -21.21 -159.78     78.80   \n",
       "2            90      US  1586833886        53  42.60  -73.97     53.01   \n",
       "3            20      ZA  1586833583        87 -33.93   18.42     55.99   \n",
       "4            31      AU  1586833645        34 -33.65  115.33     73.99   \n",
       "..          ...     ...         ...       ...    ...     ...       ...   \n",
       "565          45      JP  1586834299        53  39.47  141.95     48.69   \n",
       "566          97      PH  1586834299        81  14.30  122.65     79.81   \n",
       "567          91      RU  1586833959        45  66.00  111.50     42.80   \n",
       "568          54      LR  1586834299        85   6.30  -10.80     80.20   \n",
       "569         100      KZ  1586834299        53  44.17   66.75     46.35   \n",
       "\n",
       "     Wind Speed  \n",
       "0          6.93  \n",
       "1          5.82  \n",
       "2          8.05  \n",
       "3          5.82  \n",
       "4          3.60  \n",
       "..          ...  \n",
       "565       14.65  \n",
       "566       19.22  \n",
       "567        8.95  \n",
       "568        4.72  \n",
       "569       10.00  \n",
       "\n",
       "[570 rows x 8 columns]"
      ]
     },
     "execution_count": 21,
     "metadata": {},
     "output_type": "execute_result"
    }
   ],
   "source": [
    "weather_data.to_csv(\"Output/city.csv\", encoding=\"utf-8\", index=False) #Export cit dataframe to cvs \n",
    "weather_data"
   ]
  },
  {
   "cell_type": "markdown",
   "metadata": {},
   "source": [
    "### Plotting the Data\n",
    "* Use proper labeling of the plots using plot titles (including date of analysis) and axes labels.\n",
    "* Save the plotted figures as .pngs."
   ]
  },
  {
   "cell_type": "markdown",
   "metadata": {},
   "source": [
    "#### Latitude vs. Temperature Plot"
   ]
  },
  {
   "cell_type": "code",
   "execution_count": 22,
   "metadata": {
    "scrolled": false
   },
   "outputs": [
    {
     "data": {
      "image/png": "[encoded data removed]",
      "text/plain": [
       "<Figure size 432x288 with 1 Axes>"
      ]
     },
     "metadata": {
      "needs_background": "light"
     },
     "output_type": "display_data"
    }
   ],
   "source": [
    "# Build a scatter plot for City Latitude vs. Max Temperature\n",
    "now = datetime.datetime.now()\n",
    "analysis_date= now.strftime(\"%m/%d/%y\")\n",
    "\n",
    "plt.scatter(weather_data[\"Lat\"], weather_data[\"Max Temp\"], marker=\"o\",color='dodgerblue', edgecolor='black')\n",
    "\n",
    "# Incorporate the other graph properties\n",
    "plt.title(\"City Latitude vs. Max Temperature\" + \" (\" + str(analysis_date) + \")\")\n",
    "plt.ylabel(\"Max Temperature (F)\")\n",
    "plt.xlabel(\"Latitude\")\n",
    "plt.grid(True)\n",
    "\n",
    "# Save the figure\n",
    "plt.savefig(\"Output/Latitude vs. Temperature Plot.png\")\n",
    "\n",
    "# Show plot\n",
    "plt.show()\n",
    "\n"
   ]
  },
  {
   "cell_type": "markdown",
   "metadata": {},
   "source": [
    "#### Latitude vs. Humidity Plot"
   ]
  },
  {
   "cell_type": "code",
   "execution_count": 23,
   "metadata": {},
   "outputs": [
    {
     "data": {
      "image/png": "[encoded data removed]",
      "text/plain": [
       "<Figure size 432x288 with 1 Axes>"
      ]
     },
     "metadata": {
      "needs_background": "light"
     },
     "output_type": "display_data"
    }
   ],
   "source": [
    "# Build a scatter plot for City Latitude vs. Humidity\n",
    "\n",
    "plt.scatter(weather_data[\"Lat\"], weather_data[\"Humidity\"], marker=\"o\",color='dodgerblue', edgecolor='black')\n",
    "\n",
    "# Incorporate the other graph properties\n",
    "plt.title(\"City Latitude vs. Humidity\" + \" (\" + str(analysis_date) + \")\")\n",
    "plt.ylabel(\"Humidity (%)\")\n",
    "plt.xlabel(\"Latitude\")\n",
    "plt.grid(True)\n",
    "\n",
    "# Save the figure\n",
    "plt.savefig(\"Output/Latitude vs. Humidity Plot.png\")\n",
    "\n",
    "# Show plot\n",
    "plt.show()"
   ]
  },
  {
   "cell_type": "markdown",
   "metadata": {},
   "source": [
    "#### Latitude vs. Cloudiness Plot"
   ]
  },
  {
   "cell_type": "code",
   "execution_count": 24,
   "metadata": {},
   "outputs": [
    {
     "data": {
      "image/png": "[encoded data removed]",
      "text/plain": [
       "<Figure size 432x288 with 1 Axes>"
      ]
     },
     "metadata": {
      "needs_background": "light"
     },
     "output_type": "display_data"
    }
   ],
   "source": [
    "# Build a scatter plot for City Latitude vs. Cloudiness\n",
    "\n",
    "plt.scatter(weather_data[\"Lat\"], weather_data[\"Cloudiness\"], marker=\"o\",color='dodgerblue', edgecolor='black')\n",
    "\n",
    "# Incorporate the other graph properties\n",
    "plt.title(\"City Latitude vs. Cloudiness\" + \" (\" + str(analysis_date) + \")\")\n",
    "plt.ylabel(\"Cloudiness (%)\")\n",
    "plt.xlabel(\"Latitude\")\n",
    "plt.grid(True)\n",
    "\n",
    "# Save the figure\n",
    "plt.savefig(\"Output/Latitude vs. Cloudiness Plot.png\")\n",
    "\n",
    "# Show plot\n",
    "plt.show()"
   ]
  },
  {
   "cell_type": "markdown",
   "metadata": {},
   "source": [
    "#### Latitude vs. Wind Speed Plot"
   ]
  },
  {
   "cell_type": "code",
   "execution_count": 25,
   "metadata": {
    "scrolled": true
   },
   "outputs": [
    {
     "data": {
      "image/png": "[encoded data removed]",
      "text/plain": [
       "<Figure size 432x288 with 1 Axes>"
      ]
     },
     "metadata": {
      "needs_background": "light"
     },
     "output_type": "display_data"
    }
   ],
   "source": [
    "# Build a scatter plot for City Latitude vs. Wind Speed\n",
    "\n",
    "plt.scatter(weather_data[\"Lat\"], weather_data[\"Wind Speed\"], marker=\"o\",color='dodgerblue', edgecolor='black')\n",
    "\n",
    "# Incorporate the other graph properties\n",
    "plt.title(\"City Latitude vs. Wind Speed\" + \" (\" + str(analysis_date) + \")\")\n",
    "plt.ylabel(\"Wind Speed (mph)\")\n",
    "plt.xlabel(\"Latitude\")\n",
    "plt.grid(True)\n",
    "\n",
    "# Save the figure\n",
    "plt.savefig(\"Output/Latitude vs. Wind Speed.png\")\n",
    "\n",
    "# Show plot\n",
    "plt.show()"
   ]
  },
  {
   "cell_type": "markdown",
   "metadata": {},
   "source": [
    "## Linear Regression"
   ]
  },
  {
   "cell_type": "code",
   "execution_count": 10,
   "metadata": {},
   "outputs": [],
   "source": [
    "# OPTIONAL: Create a function to create Linear Regression plots\n"
   ]
  },
  {
   "cell_type": "code",
   "execution_count": 26,
   "metadata": {},
   "outputs": [
    {
     "data": {
      "text/html": [
       "<div>\n",
       "<style scoped>\n",
       "    .dataframe tbody tr th:only-of-type {\n",
       "        vertical-align: middle;\n",
       "    }\n",
       "\n",
       "    .dataframe tbody tr th {\n",
       "        vertical-align: top;\n",
       "    }\n",
       "\n",
       "    .dataframe thead th {\n",
       "        text-align: right;\n",
       "    }\n",
       "</style>\n",
       "<table border=\"1\" class=\"dataframe\">\n",
       "  <thead>\n",
       "    <tr style=\"text-align: right;\">\n",
       "      <th></th>\n",
       "      <th>Cloudiness</th>\n",
       "      <th>Country</th>\n",
       "      <th>Date</th>\n",
       "      <th>Humidity</th>\n",
       "      <th>Lat</th>\n",
       "      <th>Lng</th>\n",
       "      <th>Max Temp</th>\n",
       "      <th>Wind Speed</th>\n",
       "    </tr>\n",
       "  </thead>\n",
       "  <tbody>\n",
       "    <tr>\n",
       "      <td>1</td>\n",
       "      <td>69</td>\n",
       "      <td>CK</td>\n",
       "      <td>1586833881</td>\n",
       "      <td>74</td>\n",
       "      <td>-21.21</td>\n",
       "      <td>-159.78</td>\n",
       "      <td>78.80</td>\n",
       "      <td>5.82</td>\n",
       "    </tr>\n",
       "    <tr>\n",
       "      <td>3</td>\n",
       "      <td>20</td>\n",
       "      <td>ZA</td>\n",
       "      <td>1586833583</td>\n",
       "      <td>87</td>\n",
       "      <td>-33.93</td>\n",
       "      <td>18.42</td>\n",
       "      <td>55.99</td>\n",
       "      <td>5.82</td>\n",
       "    </tr>\n",
       "    <tr>\n",
       "      <td>4</td>\n",
       "      <td>31</td>\n",
       "      <td>AU</td>\n",
       "      <td>1586833645</td>\n",
       "      <td>34</td>\n",
       "      <td>-33.65</td>\n",
       "      <td>115.33</td>\n",
       "      <td>73.99</td>\n",
       "      <td>3.60</td>\n",
       "    </tr>\n",
       "    <tr>\n",
       "      <td>5</td>\n",
       "      <td>78</td>\n",
       "      <td>AU</td>\n",
       "      <td>1586833879</td>\n",
       "      <td>21</td>\n",
       "      <td>-25.24</td>\n",
       "      <td>130.99</td>\n",
       "      <td>84.20</td>\n",
       "      <td>6.93</td>\n",
       "    </tr>\n",
       "    <tr>\n",
       "      <td>6</td>\n",
       "      <td>27</td>\n",
       "      <td>MW</td>\n",
       "      <td>1586834211</td>\n",
       "      <td>79</td>\n",
       "      <td>-16.03</td>\n",
       "      <td>34.80</td>\n",
       "      <td>73.09</td>\n",
       "      <td>3.18</td>\n",
       "    </tr>\n",
       "    <tr>\n",
       "      <td>...</td>\n",
       "      <td>...</td>\n",
       "      <td>...</td>\n",
       "      <td>...</td>\n",
       "      <td>...</td>\n",
       "      <td>...</td>\n",
       "      <td>...</td>\n",
       "      <td>...</td>\n",
       "      <td>...</td>\n",
       "    </tr>\n",
       "    <tr>\n",
       "      <td>557</td>\n",
       "      <td>56</td>\n",
       "      <td>ID</td>\n",
       "      <td>1586834296</td>\n",
       "      <td>72</td>\n",
       "      <td>-9.11</td>\n",
       "      <td>124.89</td>\n",
       "      <td>81.77</td>\n",
       "      <td>3.00</td>\n",
       "    </tr>\n",
       "    <tr>\n",
       "      <td>558</td>\n",
       "      <td>100</td>\n",
       "      <td>BR</td>\n",
       "      <td>1586834296</td>\n",
       "      <td>96</td>\n",
       "      <td>-2.10</td>\n",
       "      <td>-56.49</td>\n",
       "      <td>71.33</td>\n",
       "      <td>2.44</td>\n",
       "    </tr>\n",
       "    <tr>\n",
       "      <td>559</td>\n",
       "      <td>0</td>\n",
       "      <td>ZA</td>\n",
       "      <td>1586833917</td>\n",
       "      <td>87</td>\n",
       "      <td>-33.01</td>\n",
       "      <td>17.94</td>\n",
       "      <td>53.60</td>\n",
       "      <td>3.36</td>\n",
       "    </tr>\n",
       "    <tr>\n",
       "      <td>560</td>\n",
       "      <td>69</td>\n",
       "      <td>BW</td>\n",
       "      <td>1586834297</td>\n",
       "      <td>33</td>\n",
       "      <td>-21.57</td>\n",
       "      <td>21.78</td>\n",
       "      <td>72.30</td>\n",
       "      <td>7.81</td>\n",
       "    </tr>\n",
       "    <tr>\n",
       "      <td>562</td>\n",
       "      <td>40</td>\n",
       "      <td>BR</td>\n",
       "      <td>1586834297</td>\n",
       "      <td>74</td>\n",
       "      <td>-8.01</td>\n",
       "      <td>-34.86</td>\n",
       "      <td>82.40</td>\n",
       "      <td>6.93</td>\n",
       "    </tr>\n",
       "  </tbody>\n",
       "</table>\n",
       "<p>170 rows × 8 columns</p>\n",
       "</div>"
      ],
      "text/plain": [
       "     Cloudiness Country        Date  Humidity    Lat     Lng  Max Temp  \\\n",
       "1            69      CK  1586833881        74 -21.21 -159.78     78.80   \n",
       "3            20      ZA  1586833583        87 -33.93   18.42     55.99   \n",
       "4            31      AU  1586833645        34 -33.65  115.33     73.99   \n",
       "5            78      AU  1586833879        21 -25.24  130.99     84.20   \n",
       "6            27      MW  1586834211        79 -16.03   34.80     73.09   \n",
       "..          ...     ...         ...       ...    ...     ...       ...   \n",
       "557          56      ID  1586834296        72  -9.11  124.89     81.77   \n",
       "558         100      BR  1586834296        96  -2.10  -56.49     71.33   \n",
       "559           0      ZA  1586833917        87 -33.01   17.94     53.60   \n",
       "560          69      BW  1586834297        33 -21.57   21.78     72.30   \n",
       "562          40      BR  1586834297        74  -8.01  -34.86     82.40   \n",
       "\n",
       "     Wind Speed  \n",
       "1          5.82  \n",
       "3          5.82  \n",
       "4          3.60  \n",
       "5          6.93  \n",
       "6          3.18  \n",
       "..          ...  \n",
       "557        3.00  \n",
       "558        2.44  \n",
       "559        3.36  \n",
       "560        7.81  \n",
       "562        6.93  \n",
       "\n",
       "[170 rows x 8 columns]"
      ]
     },
     "execution_count": 26,
     "metadata": {},
     "output_type": "execute_result"
    }
   ],
   "source": [
    "# Create Northern and Southern Hemisphere DataFrames\n",
    "northern_df = (weather_data[weather_data['Lat'] >= 0])\n",
    "\n",
    "southern_df = (weather_data[weather_data['Lat'] < 0])\n",
    "southern_df"
   ]
  },
  {
   "cell_type": "markdown",
   "metadata": {},
   "source": [
    "####  Northern Hemisphere - Max Temp vs. Latitude Linear Regression"
   ]
  },
  {
   "cell_type": "code",
   "execution_count": 27,
   "metadata": {},
   "outputs": [
    {
     "name": "stdout",
     "output_type": "stream",
     "text": [
      "The r-squared is: 0.798017294985494\n"
     ]
    },
    {
     "data": {
      "image/png": "[encoded data removed]",
      "text/plain": [
       "<Figure size 432x288 with 1 Axes>"
      ]
     },
     "metadata": {
      "needs_background": "light"
     },
     "output_type": "display_data"
    }
   ],
   "source": [
    "# Add the linear regression equation and line to plot\n",
    "x_values = northern_df['Lat']\n",
    "y_values = northern_df['Max Temp']\n",
    "(slope, intercept, rvalue, pvalue, stderr) = linregress(x_values, y_values)\n",
    "regress_values = x_values * slope + intercept\n",
    "line_eq = \"y = \" + str(round(slope,2)) + \"x + \" + str(round(intercept,2))\n",
    "print(f\"The r-squared is: {rvalue**2}\")\n",
    "plt.scatter(x_values,y_values)\n",
    "plt.plot(x_values,regress_values,\"r-\")\n",
    "plt.annotate(line_eq,(6,10),fontsize=15,color=\"red\")\n",
    "plt.xlabel('Latitude')\n",
    "plt.ylabel('Max Temp')\n",
    "plt.show()\n",
    "\n",
    "\n"
   ]
  },
  {
   "cell_type": "markdown",
   "metadata": {},
   "source": [
    "####  Southern Hemisphere - Max Temp vs. Latitude Linear Regression"
   ]
  },
  {
   "cell_type": "code",
   "execution_count": 28,
   "metadata": {},
   "outputs": [
    {
     "name": "stdout",
     "output_type": "stream",
     "text": [
      "The r-squared is: 0.43002832198844176\n"
     ]
    },
    {
     "data": {
      "image/png": "[encoded data removed]",
      "text/plain": [
       "<Figure size 432x288 with 1 Axes>"
      ]
     },
     "metadata": {
      "needs_background": "light"
     },
     "output_type": "display_data"
    }
   ],
   "source": [
    "# Add the linear regression equation and line to plot\n",
    "x_values = southern_df['Lat']\n",
    "y_values = southern_df['Max Temp']\n",
    "(slope, intercept, rvalue, pvalue, stderr) = linregress(x_values, y_values)\n",
    "regress_values = x_values * slope + intercept\n",
    "line_eq = \"y = \" + str(round(slope,2)) + \"x + \" + str(round(intercept,2))\n",
    "print(f\"The r-squared is: {rvalue**2}\")\n",
    "plt.scatter(x_values,y_values)\n",
    "plt.plot(x_values,regress_values,\"r-\")\n",
    "plt.annotate(line_eq,(6,10),fontsize=15,color=\"red\")\n",
    "plt.xlabel('Latitude')\n",
    "plt.ylabel('Max Temp')\n",
    "plt.show()\n",
    "\n"
   ]
  },
  {
   "cell_type": "markdown",
   "metadata": {},
   "source": [
    "####  Northern Hemisphere - Humidity (%) vs. Latitude Linear Regression"
   ]
  },
  {
   "cell_type": "code",
   "execution_count": 29,
   "metadata": {},
   "outputs": [
    {
     "name": "stdout",
     "output_type": "stream",
     "text": [
      "The r-squared is: 0.06007603715010103\n"
     ]
    },
    {
     "data": {
      "image/png": "[encoded data removed]",
      "text/plain": [
       "<Figure size 432x288 with 1 Axes>"
      ]
     },
     "metadata": {
      "needs_background": "light"
     },
     "output_type": "display_data"
    }
   ],
   "source": [
    "# Add the linear regression equation and line to plot\n",
    "x_values = northern_df['Lat']\n",
    "y_values = northern_df['Humidity']\n",
    "(slope, intercept, rvalue, pvalue, stderr) = linregress(x_values, y_values)\n",
    "regress_values = x_values * slope + intercept\n",
    "line_eq = \"y = \" + str(round(slope,2)) + \"x + \" + str(round(intercept,2))\n",
    "print(f\"The r-squared is: {rvalue**2}\")\n",
    "plt.scatter(x_values,y_values)\n",
    "plt.plot(x_values,regress_values,\"r-\")\n",
    "plt.annotate(line_eq,(6,10),fontsize=15,color=\"red\")\n",
    "plt.xlabel('Latitude')\n",
    "plt.ylabel('Humidity')\n",
    "plt.show()\n"
   ]
  },
  {
   "cell_type": "markdown",
   "metadata": {},
   "source": [
    "####  Southern Hemisphere - Humidity (%) vs. Latitude Linear Regression"
   ]
  },
  {
   "cell_type": "code",
   "execution_count": 30,
   "metadata": {},
   "outputs": [
    {
     "name": "stdout",
     "output_type": "stream",
     "text": [
      "The r-squared is: 0.09740017388338032\n"
     ]
    },
    {
     "data": {
      "image/png": "[encoded data removed]",
      "text/plain": [
       "<Figure size 432x288 with 1 Axes>"
      ]
     },
     "metadata": {
      "needs_background": "light"
     },
     "output_type": "display_data"
    }
   ],
   "source": [
    "# Add the linear regression equation and line to plot\n",
    "x_values = southern_df['Lat']\n",
    "y_values = southern_df['Humidity']\n",
    "(slope, intercept, rvalue, pvalue, stderr) = linregress(x_values, y_values)\n",
    "regress_values = x_values * slope + intercept\n",
    "line_eq = \"y = \" + str(round(slope,2)) + \"x + \" + str(round(intercept,2))\n",
    "print(f\"The r-squared is: {rvalue**2}\")\n",
    "plt.scatter(x_values,y_values)\n",
    "plt.plot(x_values,regress_values,\"r-\")\n",
    "plt.annotate(line_eq,(6,10),fontsize=15,color=\"red\")\n",
    "plt.xlabel('Latitude')\n",
    "plt.ylabel('Humidity')\n",
    "plt.show()                                           #*******************y = ...not showing***********************\n"
   ]
  },
  {
   "cell_type": "markdown",
   "metadata": {},
   "source": [
    "####  Northern Hemisphere - Cloudiness (%) vs. Latitude Linear Regression"
   ]
  },
  {
   "cell_type": "code",
   "execution_count": 31,
   "metadata": {},
   "outputs": [
    {
     "name": "stdout",
     "output_type": "stream",
     "text": [
      "The r-squared is: 0.03451433558940506\n"
     ]
    },
    {
     "data": {
      "image/png": "[encoded data removed]",
      "text/plain": [
       "<Figure size 432x288 with 1 Axes>"
      ]
     },
     "metadata": {
      "needs_background": "light"
     },
     "output_type": "display_data"
    }
   ],
   "source": [
    "# Add the linear regression equation and line to plot\n",
    "x_values = northern_df['Lat']\n",
    "y_values = northern_df['Cloudiness']\n",
    "(slope, intercept, rvalue, pvalue, stderr) = linregress(x_values, y_values)\n",
    "regress_values = x_values * slope + intercept\n",
    "line_eq = \"y = \" + str(round(slope,2)) + \"x + \" + str(round(intercept,2))\n",
    "print(f\"The r-squared is: {rvalue**2}\")\n",
    "plt.scatter(x_values,y_values)\n",
    "plt.plot(x_values,regress_values,\"r-\")\n",
    "plt.annotate(line_eq,(6,10),fontsize=15,color=\"red\")\n",
    "plt.xlabel('Latitude')\n",
    "plt.ylabel('Cloudiness')\n",
    "plt.show()                                           "
   ]
  },
  {
   "cell_type": "markdown",
   "metadata": {},
   "source": [
    "####  Southern Hemisphere - Cloudiness (%) vs. Latitude Linear Regression"
   ]
  },
  {
   "cell_type": "code",
   "execution_count": 32,
   "metadata": {},
   "outputs": [
    {
     "name": "stdout",
     "output_type": "stream",
     "text": [
      "The r-squared is: 0.08503010280024519\n"
     ]
    },
    {
     "data": {
      "image/png": "[encoded data removed]",
      "text/plain": [
       "<Figure size 432x288 with 1 Axes>"
      ]
     },
     "metadata": {
      "needs_background": "light"
     },
     "output_type": "display_data"
    }
   ],
   "source": [
    "# Add the linear regression equation and line to plot\n",
    "x_values = southern_df['Lat']\n",
    "y_values = southern_df['Cloudiness']\n",
    "(slope, intercept, rvalue, pvalue, stderr) = linregress(x_values, y_values)\n",
    "regress_values = x_values * slope + intercept\n",
    "line_eq = \"y = \" + str(round(slope,2)) + \"x + \" + str(round(intercept,2)) #*******************y = ...not showing***********************\n",
    "print(f\"The r-squared is: {rvalue**2}\") \n",
    "plt.scatter(x_values,y_values)\n",
    "plt.plot(x_values,regress_values,\"r-\")\n",
    "plt.annotate(line_eq,(6,10),fontsize=15,color=\"red\")\n",
    "plt.xlabel('Latitude')\n",
    "plt.ylabel('Cloudiness')\n",
    "plt.show()        "
   ]
  },
  {
   "cell_type": "markdown",
   "metadata": {},
   "source": [
    "####  Northern Hemisphere - Wind Speed (mph) vs. Latitude Linear Regression"
   ]
  },
  {
   "cell_type": "code",
   "execution_count": 33,
   "metadata": {},
   "outputs": [
    {
     "name": "stdout",
     "output_type": "stream",
     "text": [
      "The r-squared is: 0.049528773655315224\n"
     ]
    },
    {
     "data": {
      "image/png": "[encoded data removed]",
      "text/plain": [
       "<Figure size 432x288 with 1 Axes>"
      ]
     },
     "metadata": {
      "needs_background": "light"
     },
     "output_type": "display_data"
    }
   ],
   "source": [
    "# Add the linear regression equation and line to plot\n",
    "x_values = northern_df['Lat']\n",
    "y_values = northern_df['Wind Speed']\n",
    "(slope, intercept, rvalue, pvalue, stderr) = linregress(x_values, y_values)\n",
    "regress_values = x_values * slope + intercept\n",
    "line_eq = \"y = \" + str(round(slope,2)) + \"x + \" + str(round(intercept,2))\n",
    "print(f\"The r-squared is: {rvalue**2}\") \n",
    "plt.scatter(x_values,y_values)\n",
    "plt.plot(x_values,regress_values,\"r-\")\n",
    "plt.annotate(line_eq,(6,10),fontsize=15,color=\"red\")\n",
    "plt.xlabel('Latitude')\n",
    "plt.ylabel('Wind Speed')\n",
    "plt.show()    "
   ]
  },
  {
   "cell_type": "markdown",
   "metadata": {},
   "source": [
    "####  Southern Hemisphere - Wind Speed (mph) vs. Latitude Linear Regression"
   ]
  },
  {
   "cell_type": "code",
   "execution_count": 34,
   "metadata": {},
   "outputs": [
    {
     "name": "stdout",
     "output_type": "stream",
     "text": [
      "The r-squared is: 0.17184223950723884\n"
     ]
    },
    {
     "data": {
      "image/png": "[encoded data removed]",
      "text/plain": [
       "<Figure size 432x288 with 1 Axes>"
      ]
     },
     "metadata": {
      "needs_background": "light"
     },
     "output_type": "display_data"
    }
   ],
   "source": [
    "# Add the linear regression equation and line to plot\n",
    "x_values = southern_df['Lat']\n",
    "y_values = southern_df['Wind Speed']\n",
    "(slope, intercept, rvalue, pvalue, stderr) = linregress(x_values, y_values)\n",
    "regress_values = x_values * slope + intercept\n",
    "line_eq = \"y = \" + str(round(slope,2)) + \"x + \" + str(round(intercept,2)) #*******************y = ...not showing***********\n",
    "print(f\"The r-squared is: {rvalue**2}\") \n",
    "plt.scatter(x_values,y_values)\n",
    "plt.plot(x_values,regress_values,\"r-\")\n",
    "plt.annotate(line_eq,(6,10),fontsize=15,color=\"red\")\n",
    "plt.xlabel('Latitude')\n",
    "plt.ylabel('Wind Speed')\n",
    "plt.show()    "
   ]
  },
  {
   "cell_type": "code",
   "execution_count": null,
   "metadata": {},
   "outputs": [],
   "source": []
  }
 ],
 "metadata": {
  "anaconda-cloud": {},
  "kernel_info": {
   "name": "python3"
  },
  "kernelspec": {
   "display_name": "Python 3",
   "language": "python",
   "name": "python3"
  },
  "language_info": {
   "codemirror_mode": {
    "name": "ipython",
    "version": 3
   },
   "file_extension": ".py",
   "mimetype": "text/x-python",
   "name": "python",
   "nbconvert_exporter": "python",
   "pygments_lexer": "ipython3",
   "version": "3.7.4"
  },
  "latex_envs": {
   "LaTeX_envs_menu_present": true,
   "autoclose": false,
   "autocomplete": true,
   "bibliofile": "biblio.bib",
   "cite_by": "apalike",
   "current_citInitial": 1,
   "eqLabelWithNumbers": true,
   "eqNumInitial": 1,
   "hotkeys": {
    "equation": "Ctrl-E",
    "itemize": "Ctrl-I"
   },
   "labels_anchors": false,
   "latex_user_defs": false,
   "report_style_numbering": false,
   "user_envs_cfg": false
  },
  "nteract": {
   "version": "0.12.3"
  }
 },
 "nbformat": 4,
 "nbformat_minor": 2
}
